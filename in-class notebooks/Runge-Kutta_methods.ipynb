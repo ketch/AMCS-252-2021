{
 "cells": [
  {
   "cell_type": "markdown",
   "metadata": {
    "slideshow": {
     "slide_type": "slide"
    }
   },
   "source": [
    "# Runge-Kutta methods\n",
    "\n",
    "Runge-Kutta methods are the most commonly used approach to solving the initial value ODE:\n",
    "\n",
    "\\begin{align*}\n",
    "u'(t) & = f(t,u) \\\\\n",
    "u(0) & = u_0\n",
    "\\end{align*}\n"
   ]
  },
  {
   "cell_type": "markdown",
   "metadata": {
    "slideshow": {
     "slide_type": "fragment"
    }
   },
   "source": [
    "We have seen one example of a Runge-Kutta method in class:\n",
    "\n",
    "\\begin{align*}\n",
    "Y_2 & = U^n + \\frac{1}{2}kf(t_n, U^n) \\\\\n",
    "U^{n+1} & = U^n + kf(t_n+k/2, Y_2)\n",
    "\\end{align*}\n",
    "We saw that this method is 2nd order accurate.\n",
    "\n",
    "It's called a two-stage method because we must evaluate $f$ twice per step."
   ]
  },
  {
   "cell_type": "markdown",
   "metadata": {
    "slideshow": {
     "slide_type": "slide"
    }
   },
   "source": [
    "Here's a 4-stage method:\n",
    "\n",
    "\\begin{align*}\n",
    "Y_1 & = U^n \\\\\n",
    "Y_2 & = U^n +\\frac{k}{2}f(t_n,Y_1) \\\\\n",
    "Y_3 & = U^n +\\frac{k}{2}f(t_n+k/2,Y_2) \\\\\n",
    "Y_4 & = U^n +kf(t_n+k/2,Y_3) \\\\\n",
    "U^{n+1} & = U^n + \\frac{k}{6} \\left(f(t_n,Y_1) + 2f(t_n+k/2,Y_2) + 2f(t_n+k/2,Y_3) + f(t_n+k,Y_4) \\right)\n",
    "\\end{align*}"
   ]
  },
  {
   "cell_type": "markdown",
   "metadata": {
    "slideshow": {
     "slide_type": "fragment"
    }
   },
   "source": [
    "This method costs twice as much as the second order method (per step) but is 4th-order accurate.  \n",
    "Which method is better?"
   ]
  },
  {
   "cell_type": "markdown",
   "metadata": {
    "slideshow": {
     "slide_type": "slide"
    }
   },
   "source": [
    "We can write any Runge-Kutta method this way:\n",
    "\n",
    "\\begin{align*}\n",
    "Y_i & = U^n + k\\sum_{j=1}^r a_{ij} f(Y_j,t_n+kc_j) & i=1,2,\\dots,r \\\\\n",
    "U^{n+1} & = U^n + k \\sum_{j=1}^r b_j f(Y_j, t_n+kc_j).\n",
    "\\end{align*}\n",
    "\n",
    "Here $r$ is the number of stages."
   ]
  },
  {
   "cell_type": "markdown",
   "metadata": {
    "slideshow": {
     "slide_type": "fragment"
    }
   },
   "source": [
    "Notice that it's possible for earlier stages $Y_i$ to depend on later ones.  If the stages are coupled together in this way the method will be implicit."
   ]
  },
  {
   "cell_type": "markdown",
   "metadata": {
    "slideshow": {
     "slide_type": "slide"
    }
   },
   "source": [
    "It is customary to write these coefficients in a **Butcher table**:\n",
    "\n",
    "$$\n",
    "\\begin{array}{c|c}\n",
    "c & A \\\\ \\hline\n",
    "  & b^T\n",
    "\\end{array}\n",
    "$$"
   ]
  },
  {
   "cell_type": "code",
   "execution_count": 1,
   "metadata": {
    "slideshow": {
     "slide_type": "fragment"
    }
   },
   "outputs": [
    {
     "name": "stdout",
     "output_type": "stream",
     "text": [
      "Classical RK4\n",
      "The original four-stage, fourth-order method of Kutta\n",
      " 0   |\n",
      " 1/2 | 1/2\n",
      " 1/2 |      1/2\n",
      " 1   |           1\n",
      "_____|____________________\n",
      "     | 1/6  1/3  1/3  1/6\n"
     ]
    }
   ],
   "source": [
    "from nodepy import rk\n",
    "rk44 = rk.loadRKM('RK44')\n",
    "print(rk44)"
   ]
  },
  {
   "cell_type": "markdown",
   "metadata": {
    "slideshow": {
     "slide_type": "slide"
    }
   },
   "source": [
    "Here are the method and table together for comparison:\n",
    "\n",
    "\\begin{align*}\n",
    "Y_1 & = U^n \\\\\n",
    "Y_2 & = U^n +\\frac{k}{2}f(t_n,Y_1) \\\\\n",
    "Y_3 & = U^n +\\frac{k}{2}f(t_n+k/2,Y_2) \\\\\n",
    "Y_4 & = U^n +kf(t_n+k/2,Y_3) \\\\\n",
    "U^{n+1} & = U^n + \\frac{k}{6} \\left(f(t_n,Y_1) + 2f(t_n+k/2,Y_2) + 2f(t_n+k/2,Y_3) + f(t_n+k,Y_4) \\right)\n",
    "\\end{align*}"
   ]
  },
  {
   "cell_type": "code",
   "execution_count": 2,
   "metadata": {
    "slideshow": {
     "slide_type": "fragment"
    }
   },
   "outputs": [
    {
     "name": "stdout",
     "output_type": "stream",
     "text": [
      "Classical RK4\n",
      "The original four-stage, fourth-order method of Kutta\n",
      " 0   |\n",
      " 1/2 | 1/2\n",
      " 1/2 |      1/2\n",
      " 1   |           1\n",
      "_____|____________________\n",
      "     | 1/6  1/3  1/3  1/6\n"
     ]
    }
   ],
   "source": [
    "print(rk44)"
   ]
  },
  {
   "cell_type": "markdown",
   "metadata": {
    "slideshow": {
     "slide_type": "slide"
    }
   },
   "source": [
    "Another example:\n",
    "\n",
    "\\begin{align*}\n",
    "Y_1 & = U^n \\\\\n",
    "Y_2 & = U^n + \\frac{1}{2}kf(t_n, U^n) \\\\\n",
    "U^{n+1} & = U^n + kf(t_n+k/2, Y_2)\n",
    "\\end{align*}"
   ]
  },
  {
   "cell_type": "code",
   "execution_count": 3,
   "metadata": {
    "slideshow": {
     "slide_type": "fragment"
    }
   },
   "outputs": [
    {
     "name": "stdout",
     "output_type": "stream",
     "text": [
      "Midpoint Runge-Kutta\n",
      "\n",
      " 0   |\n",
      " 1/2 | 1/2\n",
      "_____|__________\n",
      "     | 0    1\n"
     ]
    }
   ],
   "source": [
    "rk2 = rk.loadRKM('Mid22')\n",
    "print(rk2)"
   ]
  },
  {
   "cell_type": "markdown",
   "metadata": {
    "slideshow": {
     "slide_type": "fragment"
    }
   },
   "source": [
    "In this method, we see that $Y_2$ is an approximation of $u$ at time $t_n + k/2$.  That's why we take $c_2=1/2$, so that when we evaluate the derivative ($f$) at $Y_2$, we use the appropriate time value.  This suggests that in general we should have\n",
    "\n",
    "$$\n",
    "c_i = \\sum_j a_{ij}.\n",
    "$$"
   ]
  },
  {
   "cell_type": "markdown",
   "metadata": {
    "slideshow": {
     "slide_type": "slide"
    }
   },
   "source": [
    "Let's apply a Runge-Kutta method to our favorite test problem:\n",
    "\n",
    "$$\n",
    "u'(t) = \\lambda u(t).\n",
    "$$\n",
    "\n",
    "We have\n",
    "\n",
    "\\begin{align*}\n",
    "    Y_i & = U^n + \\lambda k \\sum_j a_{ij} Y_j \\\\\n",
    "    U^{n+1} & = U^n + \\lambda k \\sum_j b_j Y_j.\n",
    "\\end{align*}"
   ]
  },
  {
   "cell_type": "markdown",
   "metadata": {
    "slideshow": {
     "slide_type": "slide"
    }
   },
   "source": [
    "We can rewrite the stage equations in vector form:\n",
    "\n",
    "$$\n",
    "Y = {\\mathbb 1}U^n + z AY\n",
    "$$"
   ]
  },
  {
   "cell_type": "markdown",
   "metadata": {
    "slideshow": {
     "slide_type": "fragment"
    }
   },
   "source": [
    "and solve for $Y$:\n",
    "\n",
    "\\begin{align*}\n",
    "    (I-zA)Y & = {\\mathbb 1}U^n \\\\ \n",
    "\\end{align*}"
   ]
  },
  {
   "cell_type": "markdown",
   "metadata": {
    "slideshow": {
     "slide_type": "fragment"
    }
   },
   "source": [
    "$$\n",
    "Y = (I-zA)^{-1}{\\mathbb 1}U^n.\n",
    "$$"
   ]
  },
  {
   "cell_type": "markdown",
   "metadata": {
    "slideshow": {
     "slide_type": "fragment"
    }
   },
   "source": [
    "Substituting this into the equation for $U^{n+1}$, we get\n",
    "\n",
    "$$U^{n+1} = U^n + z b^T Y = (1+zb^T(I-zA)^{-1}{\\mathbb 1})U^n = R(z)U^n.$$"
   ]
  },
  {
   "cell_type": "markdown",
   "metadata": {
    "slideshow": {
     "slide_type": "fragment"
    }
   },
   "source": [
    "Thus we have the stability function of a Runge-Kutta method:\n",
    "\n",
    "$$\n",
    "R(z) = 1+zb^T(I-zA)^{-1}{\\mathbb 1}\n",
    "$$"
   ]
  },
  {
   "cell_type": "markdown",
   "metadata": {
    "slideshow": {
     "slide_type": "slide"
    }
   },
   "source": [
    "$$\n",
    "R(z) = 1+zb^T(I-zA)^{-1}{\\mathbb 1}\n",
    "$$\n",
    "\n",
    "What kind of function is this?"
   ]
  },
  {
   "cell_type": "markdown",
   "metadata": {
    "slideshow": {
     "slide_type": "fragment"
    }
   },
   "source": [
    "We have the Neumann series\n",
    "\n",
    "$$\n",
    "(I-zA)^{-1} = I + zA + z^2A^2 + \\cdots.\n",
    "$$"
   ]
  },
  {
   "cell_type": "markdown",
   "metadata": {
    "slideshow": {
     "slide_type": "fragment"
    }
   },
   "source": [
    "For explicit methods, $A$ is lower triangular, so $A^r=0$, which means\n",
    "\n",
    "$$\n",
    "(I-zA)^{-1} = I + zA + z^2A^2 + \\cdots + z^{r-1} A^{r-1}\n",
    "$$"
   ]
  },
  {
   "cell_type": "markdown",
   "metadata": {
    "slideshow": {
     "slide_type": "fragment"
    }
   },
   "source": [
    "So for explicit methods,\n",
    "\n",
    "\\begin{align*}\n",
    "    R(z) & = 1+ zb^T(I + zA + \\cdots + z^{r-1} A^{r-1}){\\mathbb 1} \\\\\n",
    "         & = 1 + zb^T{\\mathbb 1} + z^2b^TA{\\mathbb 1} + \\cdots + z^r A^{r-1}{\\mathbb 1}.\n",
    "\\end{align*}"
   ]
  },
  {
   "cell_type": "markdown",
   "metadata": {
    "slideshow": {
     "slide_type": "slide"
    }
   },
   "source": [
    "$$U^{n+1} = R(z) U^n$$\n",
    "\n",
    "\\begin{align*}\n",
    "    R(z) & = 1 + zb^T{\\mathbb 1} + z^2b^TA{\\mathbb 1} + \\cdots + z^r A^{r-1}{\\mathbb 1}.\n",
    "\\end{align*}"
   ]
  },
  {
   "cell_type": "markdown",
   "metadata": {
    "slideshow": {
     "slide_type": "fragment"
    }
   },
   "source": [
    "Since the true solution is\n",
    "\n",
    "$$\n",
    "u(t_n) = e^{\\lambda t_n}u_0,\n",
    "$$\n",
    "\n",
    "we have\n",
    "$$\n",
    "u(t_{n+1}) = e^{\\lambda(t_{n+1}-t_n)}u(t_n) = e^{\\lambda k}u(t_n) = e^z u(t_n).\n",
    "$$"
   ]
  },
  {
   "cell_type": "markdown",
   "metadata": {
    "slideshow": {
     "slide_type": "fragment"
    }
   },
   "source": [
    "We see that we must have\n",
    "$$R(z) \\approx e^z.$$"
   ]
  },
  {
   "cell_type": "markdown",
   "metadata": {
    "slideshow": {
     "slide_type": "fragment"
    }
   },
   "source": [
    "More specifically, comparing the series for $R(z)$ with the Maclaurin series for $e^z$, we get the **order conditions**:\n",
    "\n",
    "\\begin{align*}\n",
    "    b^T{\\mathbb 1} & = 1 & \\text{(1st order)} \\\\\n",
    "    b^T A {\\mathbb 1} & = \\frac{1}{2} & \\text{(2nd order)} \\\\\n",
    "    b^T A^2 {\\mathbb 1} & = \\frac{1}{6} & \\text{(3rd order)}\n",
    "\\end{align*}\n",
    "\n",
    "and so forth."
   ]
  },
  {
   "cell_type": "code",
   "execution_count": 11,
   "metadata": {},
   "outputs": [
    {
     "name": "stdout",
     "output_type": "stream",
     "text": [
      "     2\n",
      "0.5 x + 1 x + 1\n"
     ]
    }
   ],
   "source": [
    "print(rk2.stability_function()[0])"
   ]
  },
  {
   "cell_type": "code",
   "execution_count": 10,
   "metadata": {},
   "outputs": [
    {
     "name": "stdout",
     "output_type": "stream",
     "text": [
      "         4          3       2\n",
      "0.04167 x + 0.1667 x + 0.5 x + 1 x + 1\n"
     ]
    }
   ],
   "source": [
    "print(rk44.stability_function()[0])"
   ]
  },
  {
   "cell_type": "markdown",
   "metadata": {
    "slideshow": {
     "slide_type": "slide"
    }
   },
   "source": [
    "These conditions are necessary for consistency of a given order (for instance, a 3rd-order method must satisfy all 3 conditions above).  But they are not sufficient -- there are some additional conditions that must be satisfied.  For instance, a 3rd-order method must also satisfy\n",
    "\n",
    "$$\n",
    "    b^T c^2 = \\frac{1}{3}.\n",
    "$$"
   ]
  },
  {
   "cell_type": "markdown",
   "metadata": {
    "slideshow": {
     "slide_type": "fragment"
    }
   },
   "source": [
    "These additional order conditions can be derived using detailed Taylor expansions of the stages and the true solution.  This gets very messy and is tedious and error-prone.  Fortunately, these conditions have a 1-1 correspondence with **rooted trees**."
   ]
  },
  {
   "cell_type": "code",
   "execution_count": 4,
   "metadata": {
    "slideshow": {
     "slide_type": "slide"
    }
   },
   "outputs": [
    {
     "data": {
      "image/png": "[encoded data removed]",
      "text/plain": [
       "<Figure size 432x288 with 2 Axes>"
      ]
     },
     "metadata": {},
     "output_type": "display_data"
    }
   ],
   "source": [
    "from nodepy import rt\n",
    "rt.plot_all_trees(3,title=rk.elementary_weight_str);"
   ]
  },
  {
   "cell_type": "code",
   "execution_count": 5,
   "metadata": {
    "slideshow": {
     "slide_type": "fragment"
    }
   },
   "outputs": [
    {
     "data": {
      "image/png": "[encoded data removed]",
      "text/plain": [
       "<Figure size 432x288 with 4 Axes>"
      ]
     },
     "metadata": {},
     "output_type": "display_data"
    }
   ],
   "source": [
    "from nodepy import rt\n",
    "rt.plot_all_trees(4,title=rk.elementary_weight_str);"
   ]
  },
  {
   "cell_type": "markdown",
   "metadata": {
    "slideshow": {
     "slide_type": "slide"
    }
   },
   "source": [
    "How many conditions are there for each order?"
   ]
  },
  {
   "cell_type": "code",
   "execution_count": 6,
   "metadata": {
    "slideshow": {
     "slide_type": "fragment"
    }
   },
   "outputs": [
    {
     "name": "stdout",
     "output_type": "stream",
     "text": [
      " 1    1     1\n",
      " 2    1     2\n",
      " 3    2     4\n",
      " 4    4     8\n",
      " 5    9    17\n"
     ]
    }
   ],
   "source": [
    "total = 0\n",
    "for j in range(1,6):\n",
    "    n = len(rt.list_trees(j))\n",
    "    total += n\n",
    "    print(\"{:2}  {:3}  {:4}\".format(j,n,total))"
   ]
  },
  {
   "cell_type": "markdown",
   "metadata": {
    "slideshow": {
     "slide_type": "fragment"
    }
   },
   "source": [
    "How many conditions do you think there will be for order 14?"
   ]
  },
  {
   "cell_type": "code",
   "execution_count": 7,
   "metadata": {
    "slideshow": {
     "slide_type": "slide"
    }
   },
   "outputs": [
    {
     "name": "stdout",
     "output_type": "stream",
     "text": [
      "   1      1      1\n",
      "   2      1      2\n",
      "   3      2      4\n",
      "   4      4      8\n",
      "   5      9     17\n",
      "   6     20     37\n",
      "   7     48     85\n",
      "   8    115    200\n",
      "   9    286    486\n",
      "  10    719   1205\n",
      "  11   1842   3047\n",
      "  12   4766   7813\n",
      "  13  12486  20299\n",
      "  14  32973  53272\n"
     ]
    }
   ],
   "source": [
    "total = 0\n",
    "for j in range(1,15):\n",
    "    n = len(rt.recursiveVectors(j))+1\n",
    "    total += n\n",
    "    print(\"{:4}  {:5}  {:5}\".format(j,n,total))"
   ]
  },
  {
   "cell_type": "markdown",
   "metadata": {
    "slideshow": {
     "slide_type": "fragment"
    }
   },
   "source": [
    "An interesting question: what is the minimum number of \"stages\" required to achieve a given order of explicit Runge-Kutta method?"
   ]
  },
  {
   "cell_type": "markdown",
   "metadata": {
    "slideshow": {
     "slide_type": "slide"
    }
   },
   "source": [
    "![](./RK-history.png)"
   ]
  },
  {
   "cell_type": "markdown",
   "metadata": {
    "slideshow": {
     "slide_type": "fragment"
    }
   },
   "source": [
    "For implicit methods, the picture is much simpler: with $r$ stages, you can create a method of order $2r$.  These methods are based on Gauss quadrature, and are very expensive since all the stages are coupled together."
   ]
  },
  {
   "cell_type": "markdown",
   "metadata": {
    "slideshow": {
     "slide_type": "slide"
    }
   },
   "source": [
    "Runge-Kutta methods are a powerful and convenient way to solve initial value problems, and are in extremely wide use.  Dozens, if not hundreds, of different methods have been developed for different purposes and used in every imaginable kind of application.\n",
    "\n",
    "The theory of Runge-Kutta methods is surprisingly deep, with connections to pure mathematics (the methods themselves form a group under composition, and the order conditions are related to Hopf algebras).\n",
    "\n",
    "Here's a fun little site I made showing information about some of them:\n",
    "http://ketch.github.io/numipedia/"
   ]
  }
 ],
 "metadata": {
  "celltoolbar": "Slideshow",
  "kernelspec": {
   "display_name": "Python 3",
   "language": "python",
   "name": "python3"
  },
  "language_info": {
   "codemirror_mode": {
    "name": "ipython",
    "version": 3
   },
   "file_extension": ".py",
   "mimetype": "text/x-python",
   "name": "python",
   "nbconvert_exporter": "python",
   "pygments_lexer": "ipython3",
   "version": "3.6.5"
  },
  "toc": {
   "base_numbering": 1,
   "nav_menu": {},
   "number_sections": true,
   "sideBar": true,
   "skip_h1_title": false,
   "title_cell": "Table of Contents",
   "title_sidebar": "Contents",
   "toc_cell": false,
   "toc_position": {},
   "toc_section_display": true,
   "toc_window_display": false
  }
 },
 "nbformat": 4,
 "nbformat_minor": 2
}
